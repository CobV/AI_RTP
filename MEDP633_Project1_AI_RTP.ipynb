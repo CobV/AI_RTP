{
  "nbformat": 4,
  "nbformat_minor": 0,
  "metadata": {
    "colab": {
      "provenance": [],
      "private_outputs": true,
      "gpuType": "L4"
    },
    "kernelspec": {
      "name": "python3",
      "display_name": "Python 3"
    },
    "language_info": {
      "name": "python"
    },
    "accelerator": "GPU"
  },
  "cells": [
    {
      "cell_type": "code",
      "execution_count": null,
      "metadata": {
        "id": "8grIxwXomYVn"
      },
      "outputs": [],
      "source": [
        "# Mount Google Drive\n",
        "from google.colab import drive\n",
        "drive.mount(\"/content/gdrive\", force_remount=True)\n",
        "%cd /content/gdrive/My Drive/AI_RTP"
      ]
    },
    {
      "cell_type": "code",
      "source": [
        "# Clone Github DoseRTX repository and download trained models and sample data\n",
        "# just need to run once for setup\n",
        "%cd /content/gdrive/My Drive/\n",
        "! git clone --recursive https://github.com/Luliny/AI_RTP\n",
        "%cd AI_RTP\n",
        "## Expand the zipped data files at the AI_RTP folder: https://vcuhealth-my.sharepoint.com/:u:/g/personal/lulin_yuan_vcuhealth_org/EedOcCtTGdlKiQgkkufqqNcBOzum26MurtdKxlY8216RIA?e=dR2vNH\n",
        "!mkdir -p checkpoints && mv MAE_DVH_loss/ checkpoints/ && mv MAE_Moment_loss/ checkpoints/ && mv MAE_loss/ checkpoints/"
      ],
      "metadata": {
        "id": "8RekrR4dm1jf"
      },
      "execution_count": null,
      "outputs": []
    },
    {
      "cell_type": "code",
      "source": [
        "# Install requirements (some requirement are already installed in Google Colab)\n",
        "!python3 -m pip install dominate GPUtil pandas Pillow SimpleITK visdom scipy"
      ],
      "metadata": {
        "id": "kqcuygmz-QYb"
      },
      "execution_count": null,
      "outputs": []
    },
    {
      "cell_type": "markdown",
      "source": [],
      "metadata": {
        "id": "N--zfU9KRA2p"
      }
    },
    {
      "cell_type": "code",
      "source": [
        "# Test MAE-Moment loss based pre-trained model\n",
        "!python3 test.py --dataroot VCU_Lung_preprocess --netG stand_unet --name MAE_Moment_loss --phase test --mode eval --model doseprediction3d --input_nc 7 --output_nc 1 --direction AtoB --dataset_mode dosepred3d --gpu_ids 0 --epoch latest"
      ],
      "metadata": {
        "id": "MvEI6ktb-6Gs",
        "collapsed": true
      },
      "execution_count": null,
      "outputs": []
    },
    {
      "cell_type": "code",
      "source": [
        "mv VCU_Lung_2024_processed_data/*.npz VCU_Lung_2024_processed_data/test/."
      ],
      "metadata": {
        "id": "71Dw-jQn77PX"
      },
      "execution_count": null,
      "outputs": []
    },
    {
      "cell_type": "code",
      "source": [
        "## run the following code to train\n",
        "!python train.py --dataroot Processed_Data --netG stand_unet --name MAE_Moment_loss --model doseprediction3d --direction AtoB --lambda_L1 1 --dataset_mode dosepred3d --norm batch --batch_size 1 --pool_size 0 --lr 0.0002 --input_nc 7 --output_nc 1 --display_freq 10 --print_freq 1 --continue_train"
      ],
      "metadata": {
        "id": "NXh4X3Ub2urk"
      },
      "execution_count": null,
      "outputs": []
    }
  ]
}